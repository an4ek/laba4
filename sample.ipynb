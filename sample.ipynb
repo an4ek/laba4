{
 "cells": [
  {
   "metadata": {},
   "cell_type": "markdown",
   "source": [
    "# This is a sample Jupyter Notebook\n",
    "\n",
    "Below is an example of a code cell. \n",
    "Put your cursor into the cell and press Shift+Enter to execute it and select the next one, or click !here goes the icon of the corresponding button in the gutter! button.\n",
    "To debug a cell, press Alt+Shift+Enter, or click !here goes the icon of the corresponding button in the gutter! button.\n",
    "\n",
    "Press Double Shift to search everywhere for classes, files, tool windows, actions, and settings.\n",
    "\n",
    "To learn more about Jupyter Notebooks in PyCharm, see [help](https://www.jetbrains.com/help/pycharm/jupyter-notebook-support.html).\n",
    "For an overview of PyCharm, go to Help -> Learn IDE features or refer to [our documentation](https://www.jetbrains.com/help/pycharm/getting-started.html)."
   ],
   "id": "8a77807f92f26ee"
  },
  {
   "metadata": {},
   "cell_type": "markdown",
   "source": "Лабораторная работа 4.",
   "id": "e0f998abff2ef73a"
  },
  {
   "metadata": {},
   "cell_type": "markdown",
   "source": [
    "1.При помощи синтаксиса списочных выражений выполните задания: \n",
    "1. Пусть дан список my_list. Создайте новый список из элементов my_list, которые меньше 5. \n",
    "2. Пусть дан список my_list. Создайте новый список из элементов my_list, деленных на 2. \n",
    "3. Пусть дан список my_list. Создайте новый список из элементов my_list, которые больше 17, \n",
    "умножив их на 2. \n",
    "4. Создайте список, включающий числа от 0 до введённого пользователем, возведённые в \n",
    "квадрат. \n",
    "5. Используя списочное выражение и метод split, составьте список из введённых чисел, \n",
    "записанных на одной строке без указания заранее их количества; затем выведите их \n",
    "квадраты также на одной строке. \n",
    "6. Используя списочное выражение и метод split, составьте список из введённых чисел, \n",
    "записанных на одной строке без указания заранее их количества; затем выведите на одной \n",
    "строке только те квадраты нечетных чисел, которые не заканчиваются на цифру 9. \n",
    "Постарайтесь решить данную задачу в одну строку. "
   ],
   "id": "27bfc4bf661f77aa"
  },
  {
   "metadata": {
    "ExecuteTime": {
     "end_time": "2025-03-07T07:46:08.811035Z",
     "start_time": "2025-03-07T07:46:01.715887Z"
    }
   },
   "cell_type": "code",
   "source": [
    "print(\"1 задание\")\n",
    "my_list = [3, 7, 2, 9, 1, 4, 5, 8]\n",
    "new_list = [x for x in my_list if x < 5]\n",
    "print(new_list)\n",
    "print(\"2 задание\")\n",
    "my_list = [10, 4, 8, 15, 20]\n",
    "new_list = [x / 2 for x in my_list]\n",
    "print(new_list)\n",
    "print(\"3 задание\")\n",
    "my_list = [10, 18, 25, 5, 30]\n",
    "new_list = [x * 2 for x in my_list if x > 17]\n",
    "print(new_list)  \n",
    "print(\"4 задание\")\n",
    "n = int(input(\"Введите число: \"))\n",
    "squares = [x**2 for x in range(n + 1)]\n",
    "print(squares)\n",
    "print(\"5 задание\")\n",
    "print(*[int(x)**2 for x in input(\"Введите числа: \").split()])\n",
    "print(\"6 задание\")\n"
   ],
   "id": "e49274034f9b286",
   "outputs": [
    {
     "name": "stdout",
     "output_type": "stream",
     "text": [
      "1 задание\n",
      "[3, 2, 1, 4]\n",
      "2 задание\n",
      "[5.0, 2.0, 4.0, 7.5, 10.0]\n",
      "3 задание\n",
      "[36, 50, 60]\n",
      "4 задание\n",
      "[0, 1, 4, 9, 16, 25]\n",
      "5 задание\n",
      "1 4 9 16 25 36\n",
      "6 задание\n"
     ]
    }
   ],
   "execution_count": 14
  },
  {
   "metadata": {},
   "cell_type": "markdown",
   "source": [
    "2.Напишите программу для построения горизонтальных столбчатых диаграмм с помощью символа \n",
    "звёздочки. Выводя строку, не используйте для этого цикл. \n"
   ],
   "id": "4d6a87c6f6bf7c9a"
  },
  {
   "metadata": {
    "ExecuteTime": {
     "end_time": "2025-03-07T07:50:25.135452Z",
     "start_time": "2025-03-07T07:50:17.022129Z"
    }
   },
   "cell_type": "code",
   "source": "print(\"\\n\".join(\"*\" * x for x in map(int, input().split())))",
   "id": "70a7af0937f4ebb0",
   "outputs": [
    {
     "name": "stdout",
     "output_type": "stream",
     "text": [
      "***\n",
      "*******\n",
      "*\n",
      "**********\n",
      "********\n"
     ]
    }
   ],
   "execution_count": 15
  },
  {
   "metadata": {},
   "cell_type": "markdown",
   "source": [
    "3.Чтобы из трех отрезков можно было составить треугольник, необходимо и достаточно, чтобы сумма длин любых двух отрезков была строго больше третьего.\n",
    "Напишите функцию triangle(a, b, c), которая принимает на вход три длины отрезков и определяет, можно ли из этих отрезков составить треугольник. Ваша функция должна печатать <<Это треугольник», если составить треугольник можно, и «Это не треугольник»,\n",
    "если нельзя."
   ],
   "id": "4d95f23befbfcf6d"
  },
  {
   "metadata": {
    "ExecuteTime": {
     "end_time": "2025-03-13T09:01:41.139996Z",
     "start_time": "2025-03-13T09:01:41.129521Z"
    }
   },
   "cell_type": "code",
   "source": [
    "def triangle(a, b, c):\n",
    "    if a + b > c and a + c > b and b + c > a:\n",
    "        print(\"Это треугольник\")\n",
    "    else:\n",
    "        print(\"Это не треугольник\")\n",
    "triangle(1, 1, 2)\n",
    "triangle(7, 6, 10)\n",
    "triangle(20, 13, 17)"
   ],
   "id": "5ed36036a8f43248",
   "outputs": [
    {
     "name": "stdout",
     "output_type": "stream",
     "text": [
      "Это не треугольник\n",
      "Это треугольник\n",
      "Это треугольник\n"
     ]
    }
   ],
   "execution_count": 13
  },
  {
   "metadata": {},
   "cell_type": "markdown",
   "source": [
    "4.Задача <<Длина отрезка»\n",
    "Условие\n",
    "Даны четыре действительных числа: х1, у1. х2 у2. Напишите функцию distance(x1, y1, x2, у2), вычисляющая расстояние между точкой (х+ут) и (хау»). Считайте четыре действительных числа и выведите результат работы этой функции.\n",
    "Если вы не знаете, как решить эту задачу, то вы, возможно, не изучали в школе теорему Пифагора. Попробуйте прочитать о ней на Википедии."
   ],
   "id": "c789eb8a2e5414de"
  },
  {
   "metadata": {
    "ExecuteTime": {
     "end_time": "2025-03-07T07:58:40.623547Z",
     "start_time": "2025-03-07T07:58:36.257821Z"
    }
   },
   "cell_type": "code",
   "source": [
    "def distance(x1, y1, x2, y2):\n",
    "    return ((x2 - x1)**2 + (y2 - y1)**2)**0.5\n",
    "x1, y1, x2, y2 = map(float, input().split())\n",
    "print(distance(x1, y1, x2, y2))"
   ],
   "id": "7a54a3f16869f658",
   "outputs": [
    {
     "name": "stdout",
     "output_type": "stream",
     "text": [
      "5.0\n"
     ]
    }
   ],
   "execution_count": 18
  },
  {
   "metadata": {},
   "cell_type": "markdown",
   "source": [
    "5.Напишите функцию number_to_words(n), которая будет возвращать переданное в\n",
    "качестве параметра в число словами. Целое число 1<=n<=99."
   ],
   "id": "a235fc8121b5a470"
  },
  {
   "metadata": {
    "ExecuteTime": {
     "end_time": "2025-03-13T07:37:28.277921Z",
     "start_time": "2025-03-13T07:37:28.246145Z"
    }
   },
   "cell_type": "code",
   "source": [
    "def number_to_words(n):\n",
    "    if n < 1 or n > 99:\n",
    "        return \"Число вне диапазона (1-99)\"\n",
    "    \n",
    "    ones = [\"\", \"один\", \"два\", \"три\", \"четыре\", \"пять\", \"шесть\", \"семь\", \"восемь\", \"девять\"]\n",
    "    teens = [\"десять\", \"одиннадцать\", \"двенадцать\", \"тринадцать\", \"четырнадцать\", \n",
    "             \"пятнадцать\", \"шестнадцать\", \"семнадцать\", \"восемнадцать\", \"девятнадцать\"]\n",
    "    tens = [\"\", \"\", \"двадцать\", \"тридцать\", \"сорок\", \"пятьдесят\", \n",
    "            \"шестьдесят\", \"семьдесят\", \"восемьдесят\", \"девяносто\"]\n",
    "\n",
    "    if 1 <= n <= 9:\n",
    "        return ones[n] \n",
    "    elif 10 <= n <= 19:\n",
    "        return teens[n - 10]  \n",
    "    else:\n",
    "        ten_part = tens[n // 10]  # Десятки \n",
    "        one_part = ones[n % 10]   # Единицы \n",
    "        return ten_part + (\" \" + one_part if one_part else \"\")\n",
    "\n",
    "\n",
    "print(number_to_words(0)) \n",
    "print(number_to_words(12))  \n",
    "print(number_to_words(47))  \n",
    "print(number_to_words(90))  "
   ],
   "id": "b34cf3744ba2c0d",
   "outputs": [
    {
     "name": "stdout",
     "output_type": "stream",
     "text": [
      "Число вне диапазона (1-99)\n",
      "двенадцать\n",
      "сорок семь\n",
      "девяносто\n"
     ]
    }
   ],
   "execution_count": 1
  },
  {
   "metadata": {},
   "cell_type": "markdown",
   "source": [
    "6.Правильной скобочной последовательностью называется строка, состоящая только из символов «скобки» (открывающих \"(\" и закрывающих\")\"), где каждой закрывающей скобке найдётся соответствующая открывающая. Например, () и (()()) — правильные последовательности, а (0(0 или )( - нет.\n",
    "Напишите функцию bracket_check(test_string), которая проверяет, является ли поступившая на вход строка правильной скобочной последовательностью. Если да, она должна печатать YES, в противном случае - NO. Обратите внимание, что пустая строка также является правильной скобочной последовательностью."
   ],
   "id": "476c61e5751c415c"
  },
  {
   "metadata": {
    "ExecuteTime": {
     "end_time": "2025-03-13T07:40:39.842257Z",
     "start_time": "2025-03-13T07:40:39.817831Z"
    }
   },
   "cell_type": "code",
   "source": [
    "def bracket_check(test_string):\n",
    "    stack = []  \n",
    "    \n",
    "    for char in test_string:\n",
    "        if char == \"(\":  \n",
    "            stack.append(char)\n",
    "        elif char == \")\":  \n",
    "            if not stack: \n",
    "                print(\"NO\")\n",
    "                return\n",
    "            stack.pop()  \n",
    "    print(\"YES\" if not stack else \"NO\")\n",
    "\n",
    "bracket_check(\"()\")   \n",
    "bracket_check(\"(())\")   \n",
    "bracket_check(\"(()())\")  \n",
    "bracket_check(\"(()\")     \n",
    "bracket_check(\"\")         \n",
    "bracket_check(\"()()()\")   "
   ],
   "id": "ee48fb8d3214caad",
   "outputs": [
    {
     "name": "stdout",
     "output_type": "stream",
     "text": [
      "YES\n",
      "YES\n",
      "YES\n",
      "NO\n",
      "YES\n",
      "YES\n"
     ]
    }
   ],
   "execution_count": 2
  },
  {
   "metadata": {},
   "cell_type": "markdown",
   "source": [
    "7.Палиндром - это строка (или слово), которая читается одинаково в обоих направлениях, например, «12321» или известный пример Афанасия Фета «А роза упала на лапу Азора».\n",
    "Напишите функцию palindrome(s), которая принимает в качества параметра строку и определяет, является ли она палиндромом. Функция должна возвращать строку «Палиндром» или «Не палиндром» соответственно.\n",
    "Примечания\n",
    "При проверке считайте большие и маленькие буквы одинаковыми, а также игнорируйте пробелы."
   ],
   "id": "32ad23059d57148d"
  },
  {
   "metadata": {
    "ExecuteTime": {
     "end_time": "2025-03-13T07:43:54.462904Z",
     "start_time": "2025-03-13T07:43:54.448947Z"
    }
   },
   "cell_type": "code",
   "source": [
    "def palindrome(s):\n",
    "    s = s.lower()\n",
    "    cleaned_s = \"\"\n",
    "    for char in s:\n",
    "        if char.isalnum():  \n",
    "            cleaned_s += char\n",
    "    return \"Палиндром\" if cleaned_s == cleaned_s[::-1] else \"Не палиндром\"\n",
    "\n",
    "print(palindrome(\"А роза упала на лапу Азора\"))  \n",
    "print(palindrome(\"А роза упала на лапу Азор\")) \n",
    "print(palindrome(\"abba\"))  \n",
    "print(palindrome(\"hello\"))  "
   ],
   "id": "c3383436e4842b10",
   "outputs": [
    {
     "name": "stdout",
     "output_type": "stream",
     "text": [
      "Палиндром\n",
      "Не палиндром\n",
      "Палиндром\n",
      "Не палиндром\n"
     ]
    }
   ],
   "execution_count": 3
  },
  {
   "metadata": {},
   "cell_type": "markdown",
   "source": [
    "8.Напишите функцию tic_tac_toe(field), которая принимает на вход список списков 3х3 - поле игры в крестики-нолики.\n",
    "На этом поле отражен игровой момент: незанятой (пустой) клетке соответствует -, крестикам и ноликам соответственно х' и '0'.\n",
    "Ваша функция должна попытаться определить, есть ли победитель в данном игровом моменте и вывести фразу x win, если победили «крестики» или 0 win, если победили\n",
    "«нолики».\n",
    "В случае, когда однозначно определить победителя не представляется возможным необходимо вывести слово draw."
   ],
   "id": "16671520b3a9f814"
  },
  {
   "metadata": {
    "ExecuteTime": {
     "end_time": "2025-03-13T07:46:57.435788Z",
     "start_time": "2025-03-13T07:46:57.417356Z"
    }
   },
   "cell_type": "code",
   "source": [
    "def tic_tac_toe(field):\n",
    "    win_lines = (\n",
    "        field[0], field[1], field[2],  # Горизонтали\n",
    "        [field[i][0] for i in range(3)],  # Вертикаль 1\n",
    "        [field[i][1] for i in range(3)],  # Вертикаль 2\n",
    "        [field[i][2] for i in range(3)],  # Вертикаль 3\n",
    "        [field[i][i] for i in range(3)],  # Главная диагональ\n",
    "        [field[i][2 - i] for i in range(3)]  # Горизонтальная линия в середине\n",
    "    )\n",
    "    for line in win_lines:\n",
    "        if line == [\"x\", \"x\", \"x\"]:\n",
    "            print(\"x win\")\n",
    "            return\n",
    "        if line == [\"0\", \"0\", \"0\"]:\n",
    "            print(\"0 win\")\n",
    "            return\n",
    "    print(\"draw\")\n",
    "\n",
    "\n",
    "data = \"\"\"0 - 0\n",
    "x x x\n",
    "0 0 -\"\"\"\n",
    "\n",
    "field = [line.split() for line in data.split('\\n')]\n",
    "\n",
    "tic_tac_toe(field)"
   ],
   "id": "b3ea89b30a6f6c91",
   "outputs": [
    {
     "name": "stdout",
     "output_type": "stream",
     "text": [
      "x win\n"
     ]
    }
   ],
   "execution_count": 4
  },
  {
   "metadata": {},
   "cell_type": "markdown",
   "source": [
    "9.Из-за плохой связи на мобильный телефон Василия приходят одни и те же смски по несколько раз. Он попросил вас написать небольшую функцию, которая будет работать почти как обычный print, но не будет печатать сообщение, если предыдущее сообщение было таким же.\n",
    "Чтобы телефон эти изменения в распечатке смсок принял, ваш друг настроил его так, что вам достаточно написать функцию print_without_duplicates(message). Напишите её."
   ],
   "id": "b3d13759f95eb19"
  },
  {
   "metadata": {
    "ExecuteTime": {
     "end_time": "2025-03-13T08:34:00.577629Z",
     "start_time": "2025-03-13T08:34:00.569646Z"
    }
   },
   "cell_type": "code",
   "source": [
    "def print_without_duplicates(message):\n",
    "    if hasattr(print_without_duplicates, 'last_message') and message == print_without_duplicates.last_message:\n",
    "        return\n",
    "    print(message)\n",
    "    print_without_duplicates.last_message = message\n",
    "\n",
    "print_without_duplicates(\"Привет\")\n",
    "print_without_duplicates(\"Не могу до тебя дозвониться\")  \n",
    "print_without_duplicates(\"Не могу до тебя дозвониться\") \n",
    "print_without_duplicates(\"Не могу до тебя дозвониться\") \n",
    "print_without_duplicates(\"Когда доедешь до дома\")\n",
    "print_without_duplicates(\"Ага, жду\")\n",
    "print_without_duplicates(\"Ага, жду\")"
   ],
   "id": "af807c577ca5813e",
   "outputs": [
    {
     "name": "stdout",
     "output_type": "stream",
     "text": [
      "Привет\n",
      "Не могу до тебя дозвониться\n",
      "Когда доедешь до дома\n",
      "Ага, жду\n"
     ]
    }
   ],
   "execution_count": 5
  },
  {
   "metadata": {},
   "cell_type": "markdown",
   "source": [
    "10.Алиса хочет устроить вечеринку по поводу ее дня рождения. Она хочет пригласить друзей так, чтобы друзья были между собой знакомы.\n",
    "Помогите Алисе автоматизировать процесс написания приглашений. Напишите три функции: add_friends(), are_friends() и print_friends().\n",
    "Функция add_friends(name_of_person, list_of_friends) принимает на вход два аргумента: имя человека и список имен его друзей.\n",
    "Функция are_friends(name_of_person1, name_of_person2) принимает на вход два\n",
    "аргумента: имя первого человека и имя второго человека и возвращает True или False, в зависимости от того, считает ли первый человек второго своим другом.\n",
    "А функция print_friends(name_of_person) принимает на вход имя человека и печатает список его друзей через пробел в алфавитном порядке.\n",
    "Примечания\n",
    "Алиса довольно уникальный человек, все ее друзья имеют разные, неповторяющиеся имена."
   ],
   "id": "6b7b2fe8e69894ad"
  },
  {
   "metadata": {
    "ExecuteTime": {
     "end_time": "2025-03-13T08:41:15.722758Z",
     "start_time": "2025-03-13T08:41:15.712577Z"
    }
   },
   "cell_type": "code",
   "source": [
    "friends_dict = {}\n",
    "def add_friends(name_of_person, list_of_friends):\n",
    "    if name_of_person not in friends_dict:\n",
    "        friends_dict[name_of_person] = []\n",
    "    friends_dict[name_of_person].extend(list_of_friends)\n",
    "    \n",
    "def are_friends(name_of_person1, name_of_person2):\n",
    "    return name_of_person2 in friends_dict.get(name_of_person1, [])\n",
    "\n",
    "def print_friends(name_of_person):\n",
    "    if name_of_person in friends_dict:\n",
    "        friends_list = sorted(friends_dict[name_of_person])\n",
    "        print(\" \".join(friends_list))\n",
    "    else:\n",
    "        print()  \n",
    "add_friends(\"Алла\", [\"Марина\", \"Иван\"])\n",
    "print(are_friends(\"Алла\", \"Мария\"))  \n",
    "add_friends(\"Алла\", [\"Мария\"])\n",
    "print(are_friends(\"Алла\", \"Мария\")) "
   ],
   "id": "ee6e06c3b01e6d4e",
   "outputs": [
    {
     "name": "stdout",
     "output_type": "stream",
     "text": [
      "False\n",
      "True\n"
     ]
    }
   ],
   "execution_count": 7
  },
  {
   "metadata": {},
   "cell_type": "markdown",
   "source": "11.В двух глобальных переменных one, two находятся два натуральных числа: первое слагаемое и второе слагаемое. Напишите функцию roman(), которая считает их сумму и записывает ее в глобальную переменную three, переводит каждое слагаемое и сумму в римскую запись и печатает их, как показано в примере.",
   "id": "5c764462b97451c7"
  },
  {
   "metadata": {
    "ExecuteTime": {
     "end_time": "2025-03-13T08:45:50.327136Z",
     "start_time": "2025-03-13T08:45:50.309228Z"
    }
   },
   "cell_type": "code",
   "source": [
    "one = 5  \n",
    "two = 4 \n",
    "three = 0  \n",
    "\n",
    "roman_numerals = [\n",
    "    (1000, \"M\"),\n",
    "    (900, \"CM\"),\n",
    "    (500, \"D\"),\n",
    "    (400, \"CD\"),\n",
    "    (100, \"C\"),\n",
    "    (90, \"XC\"),\n",
    "    (50, \"L\"),\n",
    "    (40, \"XL\"),\n",
    "    (10, \"X\"),\n",
    "    (9, \"IX\"),\n",
    "    (5, \"V\"),\n",
    "    (4, \"IV\"),\n",
    "    (1, \"I\")\n",
    "]\n",
    "\n",
    "def to_roman(number):\n",
    "    result = \"\"\n",
    "    for value, numeral in roman_numerals:\n",
    "        while number >= value:\n",
    "            result += numeral\n",
    "            number -= value\n",
    "    return result\n",
    "\n",
    "def roman():\n",
    "    global one, two, three\n",
    "    three = one + two  \n",
    "    roman_one = to_roman(one)\n",
    "    roman_two = to_roman(two)\n",
    "    roman_three = to_roman(three)\n",
    "    print(f\"{roman_one} + {roman_two} = {roman_three}\")\n",
    "\n",
    "roman()"
   ],
   "id": "f1e9d62c6784e771",
   "outputs": [
    {
     "name": "stdout",
     "output_type": "stream",
     "text": [
      "V + IV = IX\n"
     ]
    }
   ],
   "execution_count": 9
  },
  {
   "metadata": {},
   "cell_type": "markdown",
   "source": [
    "12.Приведите пример, когда \n",
    "value = value + addition \n",
    "и \n",
    "value += addition \n",
    "дают одинаковый результат и когда разный. В чем будут отличия, и как их пронаблюдать? \n",
    "Напишите код, который их продемонстрирует. В коде обязательно должны присутствовать \n",
    "комментарии, поясняющие работу программы."
   ],
   "id": "3f9ceefa692e0cdb"
  },
  {
   "metadata": {
    "ExecuteTime": {
     "end_time": "2025-03-13T08:49:12.235354Z",
     "start_time": "2025-03-13T08:49:12.219219Z"
    }
   },
   "cell_type": "code",
   "source": [
    "# Пример для чисел (цель: показать одинаковый результат)\n",
    "value = 10\n",
    "addition = 5\n",
    "\n",
    "# Оператор присваивания с суммой\n",
    "value = value + addition\n",
    "print(\"После value = value + addition:\", value)  # Ожидаем 15\n",
    "\n",
    "# Восстанавливаем исходное значение\n",
    "value = 10\n",
    "\n",
    "# Оператор +=\n",
    "value += addition\n",
    "print(\"После value += addition:\", value)  # Ожидаем 15\n",
    "\n",
    "# Пример для изменяемых объектов (например, списков)\n",
    "value_list = [1, 2]\n",
    "addition_list = [3, 4]\n",
    "\n",
    "# Пример с value = value + addition\n",
    "value_list = value_list + addition_list  # Создается новый список\n",
    "print(\"После value_list = value_list + addition_list:\", value_list)\n",
    "\n",
    "# Восстанавливаем исходное значение\n",
    "value_list = [1, 2]\n",
    "\n",
    "# Пример с value += addition\n",
    "value_list += addition_list  # Модифицируется сам объект, а не создается новый\n",
    "print(\"После value_list += addition_list:\", value_list)"
   ],
   "id": "193e3a73a3fe7181",
   "outputs": [
    {
     "name": "stdout",
     "output_type": "stream",
     "text": [
      "После value = value + addition: 15\n",
      "После value += addition: 15\n",
      "После value_list = value_list + addition_list: [1, 2, 3, 4]\n",
      "После value_list += addition_list: [1, 2, 3, 4]\n"
     ]
    }
   ],
   "execution_count": 10
  },
  {
   "metadata": {},
   "cell_type": "markdown",
   "source": [
    "13.Напишите пример, который продемонстрирует отличия между методом sort() списка и функцией \n",
    "sorted(arr). \n",
    "На основе вашего кода должно быть возможно показать, какой из вариантов меняет список, а какой – создает новый, отсортированный список. В коде обязательно должны присутствовать \n",
    "комментарии, поясняющие работу программы. "
   ],
   "id": "7789635f3a2c286d"
  },
  {
   "metadata": {
    "ExecuteTime": {
     "end_time": "2025-03-13T08:52:38.988418Z",
     "start_time": "2025-03-13T08:52:38.960382Z"
    }
   },
   "cell_type": "code",
   "source": [
    "# Пример списка\n",
    "arr = [3, 1, 4, 1, 5, 9, 2, 6]\n",
    "\n",
    "# Используем метод sort() для сортировки списка\n",
    "arr.sort()  # Сортирует список на месте\n",
    "print(\"После вызова arr.sort():\", arr)  # Ожидаем, что arr будет отсортирован\n",
    "\n",
    "# Восстанавливаем исходный список\n",
    "arr = [3, 1, 4, 1, 5, 9, 2, 6]\n",
    "\n",
    "# Используем функцию sorted() для сортировки списка\n",
    "sorted_arr = sorted(arr)  # Возвращает новый отсортированный список, исходный arr не изменяется\n",
    "print(\"После вызова sorted(arr):\", sorted_arr)  # Ожидаем новый отсортированный список\n",
    "print(\"Исходный список после sorted(arr):\", arr)  # Ожидаем, что arr не изменится"
   ],
   "id": "b7e1d25371b0b25d",
   "outputs": [
    {
     "name": "stdout",
     "output_type": "stream",
     "text": [
      "После вызова arr.sort(): [1, 1, 2, 3, 4, 5, 6, 9]\n",
      "После вызова sorted(arr): [1, 1, 2, 3, 4, 5, 6, 9]\n",
      "Исходный список после sorted(arr): [3, 1, 4, 1, 5, 9, 2, 6]\n"
     ]
    }
   ],
   "execution_count": 11
  },
  {
   "metadata": {},
   "cell_type": "markdown",
   "source": [
    "14.Прочитайте код и объясните, что он должен делать (судя по названиям переменных и \n",
    "приведённому алгоритму). \n",
    "Исправьте ошибку, чтобы программа делала то, что задумано. \n",
    "numbers = [2, 5, 7, 7, 8, 4, 1, 6]  \n",
    "odd = even = []  \n",
    "for number in numbers:  \n",
    "if number % 2 == 0:  \n",
    "even.append(number)  \n",
    "else:  \n",
    "odd.append(number) \n",
    "В коде обязательно должны присутствовать комментарии, поясняющие работу программы. \n",
    "Изменять имена переменных запрещено."
   ],
   "id": "fdf4384b2f1ba2ae"
  },
  {
   "metadata": {
    "ExecuteTime": {
     "end_time": "2025-03-13T09:05:59.394282Z",
     "start_time": "2025-03-13T09:05:59.380300Z"
    }
   },
   "cell_type": "code",
   "source": [
    "# Исходный список чисел\n",
    "numbers = [2, 5, 7, 7, 8, 4, 1, 6]\n",
    "\n",
    "# Списки для четных и нечетных чисел\n",
    "odd = []  # Для нечетных чисел\n",
    "even = []  # Для четных чисел\n",
    "\n",
    "# Проходим по каждому числу в списке numbers\n",
    "for number in numbers:\n",
    "    if number % 2 == 0:\n",
    "        # Если число четное, добавляем в список even\n",
    "        even.append(number)\n",
    "    else:\n",
    "        # Если число нечетное, добавляем в список odd\n",
    "        odd.append(number)\n",
    "\n",
    "# Выводим результаты\n",
    "print(\"Четные числа:\", even)  # Ожидаем вывод четных чисел\n",
    "print(\"Нечетные числа:\", odd)  # Ожидаем вывод нечетных чисел"
   ],
   "id": "c80321645e08ab63",
   "outputs": [
    {
     "name": "stdout",
     "output_type": "stream",
     "text": [
      "Четные числа: [2, 8, 4, 6]\n",
      "Нечетные числа: [5, 7, 7, 1]\n"
     ]
    }
   ],
   "execution_count": 14
  },
  {
   "metadata": {},
   "cell_type": "markdown",
   "source": [
    "15.Фракталом называется самоподобный объект, то есть объект, который можно разбить на несколько \n",
    "частей так, что одна из составляющих частей будет выглядеть так же, как весь объект целиком. \n",
    "Фракталы можно встретить в живой природе. Например, дерево можно представить себе как \n",
    "объект, который состоит из ствола, к которому «прикрепляются» ветки. Однако, эти ветки являются \n",
    "при этом такими же деревьями, только в уменьшенном виде. \n",
    "Сам термин фрактал был введен Бенуа Мандельбротом. Вы можете почитать о них более подробно \n",
    "в интернете, например https://ru.wikipedia.org/wiki/Фрактал.  \n",
    "Создайте список-фрактал, который состоит из четырех элементов. \n",
    "По краям списка должны стоять числа 0 и 2 (первый и последний элементы соответственно), а \n",
    "между ними должен находиться сам исходный список в двух экземплярах. Ваш фрактал должен \n",
    "быть сохранён в (глобальную) переменную с именем fractal. \n",
    "Фрактальный список будет, в некотором смысле, бесконечным. \n",
    "Напишите код, который создаёт глобальную переменную fractal с нужным содержимым. \n"
   ],
   "id": "bebc0561ece36bb9"
  },
  {
   "metadata": {
    "ExecuteTime": {
     "end_time": "2025-03-13T09:26:15.345058Z",
     "start_time": "2025-03-13T09:26:15.334651Z"
    }
   },
   "cell_type": "code",
   "source": [
    "fractal = [0, None, None, 2]\n",
    "fractal[1] = fractal\n",
    "fractal[2] = fractal\n",
    "print(*fractal)"
   ],
   "id": "bcde1bffe259933c",
   "outputs": [
    {
     "name": "stdout",
     "output_type": "stream",
     "text": [
      "[0, [...], [...], 2]\n"
     ]
    }
   ],
   "execution_count": 19
  },
  {
   "metadata": {},
   "cell_type": "markdown",
   "source": [
    "16.Объясните и исправьте ошибку в функции continue_fibonacci_sequence(sequence, n), которая принимает часть последовательности Фибоначчи sequence и продолжает её на • элементов. Список sequence представляет из себя несколько не менее двух чисел, следующих в последовательности Фибоначчи друг за другом.\n",
    "def continue_fibonacci_sequence(sequence, n):\n",
    "for i in range(n):\n",
    "next_element = sequence[-1] + sequence[-2]\n",
    "sequence = sequence + [next_element]"
   ],
   "id": "fed76c3ebe3928e8"
  },
  {
   "metadata": {
    "ExecuteTime": {
     "end_time": "2025-03-13T09:34:57.324017Z",
     "start_time": "2025-03-13T09:34:57.299638Z"
    }
   },
   "cell_type": "code",
   "source": [
    "def continue_fibonacci_sequence(sequence, n):\n",
    "    for i in range(n):\n",
    "        next_element = sequence[-1] + sequence[-2]\n",
    "        # Добавляем новый элемент в конец списка\n",
    "        sequence.append(next_element)\n",
    "sequence = [1, 1]\n",
    "continue_fibonacci_sequence(sequence, 1)\n",
    "print(*sequence)"
   ],
   "id": "e77bd40d1fe2a4a7",
   "outputs": [
    {
     "name": "stdout",
     "output_type": "stream",
     "text": [
      "1 1 2\n"
     ]
    }
   ],
   "execution_count": 22
  },
  {
   "metadata": {},
   "cell_type": "markdown",
   "source": [
    "17.Посмотрите на функцию mirror(arr), которая должна список длины N превратить в\n",
    "список длины 2N, первая половина которого равна исходному списку, а вторая половина равна перевёрнутому («отражённому» относительно конца):\n",
    "def mirror(arr):\n",
    "mirrored_part = arr.reverse()\n",
    "arr = arr + mirrored_part"
   ],
   "id": "93d46615b258e62f"
  },
  {
   "metadata": {
    "ExecuteTime": {
     "end_time": "2025-03-13T09:44:51.062715Z",
     "start_time": "2025-03-13T09:44:51.055159Z"
    }
   },
   "cell_type": "code",
   "source": [
    "def mirror(arr):\n",
    "    # Создаем вторую половину зеркального списка, переворачивая исходный\n",
    "    mirrored_part = arr[::-1]\n",
    "    arr = arr + mirrored_part\n",
    "    return arr\n",
    "\n",
    "arr = [1, 2]\n",
    "arr = mirror(arr)\n",
    "print(*arr) \n",
    "    "
   ],
   "id": "6a72e00f47f5b7c6",
   "outputs": [
    {
     "name": "stdout",
     "output_type": "stream",
     "text": [
      "1 2 2 1\n"
     ]
    }
   ],
   "execution_count": 27
  },
  {
   "metadata": {},
   "cell_type": "markdown",
   "source": [
    "18.Напишите функцию from_string_to_list(string, container), которая принимает два аргумента: строку string, состоящую из целых чисел, написанных через пробел, и\n",
    "список container. Функция должна извлечь из строки числа и добавить их в конец\n",
    "списка."
   ],
   "id": "13d83e6e730581f5"
  },
  {
   "metadata": {
    "ExecuteTime": {
     "end_time": "2025-03-13T09:48:46.249903Z",
     "start_time": "2025-03-13T09:48:46.236176Z"
    }
   },
   "cell_type": "code",
   "source": [
    "def from_string_to_list(string, container):\n",
    "    numbers = map(int, string.split())\n",
    "    container.extend(numbers)\n",
    "a = [1, 2, 3]\n",
    "from_string_to_list(\"1 3 99 52\", a)\n",
    "print(a)  "
   ],
   "id": "5a915949d176544f",
   "outputs": [
    {
     "name": "stdout",
     "output_type": "stream",
     "text": [
      "[1, 2, 3, 1, 3, 99, 52]\n"
     ]
    }
   ],
   "execution_count": 29
  },
  {
   "metadata": {},
   "cell_type": "markdown",
   "source": [
    "19.Напишите функцию transpose(matrix), которая принимает матрицу N х М (т.е. список\n",
    "из списков-строк по М элементов каждый) и транспонирует её, т.е. превращает\n",
    "строки в столбцы и наоборот.\n",
    "1-ая строка при этом превращается в і-й столбец."
   ],
   "id": "14119e238f9e7d9c"
  },
  {
   "metadata": {
    "ExecuteTime": {
     "end_time": "2025-03-13T12:23:22.186953Z",
     "start_time": "2025-03-13T12:23:22.175534Z"
    }
   },
   "cell_type": "code",
   "source": [
    "def transpose(matrix):\n",
    "    if not matrix:\n",
    "        return []\n",
    "    # Используем zip с распаковкой, чтобы поменять строки и столбцы местами\n",
    "    transposed = [list(row) for row in zip(*matrix)]\n",
    "    matrix.clear()\n",
    "    matrix.extend(transposed)\n",
    "\n",
    "matrix = [[1, 2], [3, 4]]\n",
    "transpose(matrix)\n",
    "\n",
    "for line in matrix:\n",
    "    print(*line)"
   ],
   "id": "11e5e52bc5550f8a",
   "outputs": [
    {
     "name": "stdout",
     "output_type": "stream",
     "text": [
      "1 3\n",
      "2 4\n"
     ]
    }
   ],
   "execution_count": 30
  },
  {
   "metadata": {},
   "cell_type": "markdown",
   "source": [
    "20.Для хитроумного приспособления, которое обменивает людей личностями, вы должны написать функцию, которая принимает список мыслей одного человека и другого, а\n",
    "затем обменивает их содержимым.\n",
    "Функция должна называться swap(first, second). Первый список должен получить содержимое второго списка, и наоборот."
   ],
   "id": "faa34e4eb10c1077"
  },
  {
   "metadata": {
    "ExecuteTime": {
     "end_time": "2025-03-13T12:27:32.722754Z",
     "start_time": "2025-03-13T12:27:32.717963Z"
    }
   },
   "cell_type": "code",
   "source": [
    "def swap(first, second):\n",
    "    first[:], second[:] = second[:], first[:]\n",
    "first = [1, 2, 3]\n",
    "second = [4, 5, 6]\n",
    "first_content = first[:]\n",
    "second_content = second[:]\n",
    "swap(first, second)\n",
    "print(first, second_content, first == second_content)\n",
    "print(second, first_content, second == first_content)"
   ],
   "id": "8b89975fccc9402c",
   "outputs": [
    {
     "name": "stdout",
     "output_type": "stream",
     "text": [
      "[4, 5, 6] [4, 5, 6] True\n",
      "[1, 2, 3] [1, 2, 3] True\n"
     ]
    }
   ],
   "execution_count": 32
  },
  {
   "metadata": {},
   "cell_type": "markdown",
   "source": [
    "21.Напишите функцию defractalize(fractal), которая принимает в качестве аргумента фрактальный список и удаляет из него все самоподобные части фрактала (т.е. части,\n",
    "эквивалентные самому фракталу).\n",
    "Фрактальный список в этой задаче может содержать в качестве элементов любые числа и сам себя (в любом числе копий)."
   ],
   "id": "849c0303a19f3d59"
  },
  {
   "metadata": {
    "ExecuteTime": {
     "end_time": "2025-03-13T12:30:08.985140Z",
     "start_time": "2025-03-13T12:30:08.965726Z"
    }
   },
   "cell_type": "code",
   "source": [
    "def defractalize(fractal):\n",
    "    while fractal in fractal:  \n",
    "        fractal.remove(fractal)  \n",
    "fractal = [2, 5]\n",
    "fractal.append(fractal) \n",
    "fractal.append(3)\n",
    "defractalize(fractal)\n",
    "print(fractal) "
   ],
   "id": "6fe058a65d5945b5",
   "outputs": [
    {
     "name": "stdout",
     "output_type": "stream",
     "text": [
      "[2, 5, 3]\n"
     ]
    }
   ],
   "execution_count": 33
  },
  {
   "metadata": {},
   "cell_type": "markdown",
   "source": [
    "22.Когда встроенная функция print распечатывает список, содержащий сам себя, то вместо содержимого внутреннего списка она подставляет многоточие.\n",
    "Это позволяет программе не зациклиться, пытаясь напечатать список, который за счет фрактальной структуры имеет бесконечную глубину.\n",
    "Например, текстовое представление списка, состоящего из нуля, самого себя и двойки будет выглядеть так:\n",
    "[0, [...], 2]\n",
    "Напишите функцию fractal_print(obj), которая также выводит фрактал на экран, но печатает не один, а два уровня вложенности:\n",
    "[0, [0, [...], 2], 2]\n",
    "Мы рассматриваем только простые фрактальные списки, состоящие из обычных несоставных объектов (числа, строки, логические величины) или самих себя."
   ],
   "id": "e0a02d047db32cb6"
  },
  {
   "metadata": {
    "ExecuteTime": {
     "end_time": "2025-03-13T12:34:43.107226Z",
     "start_time": "2025-03-13T12:34:43.097720Z"
    }
   },
   "cell_type": "code",
   "source": [
    "def fractal_print(obj, depth=2):\n",
    "    def helper(obj, level):\n",
    "        if obj is fractal and level == 0:\n",
    "            return \"[...]\"\n",
    "        return \"[\" + \", \".join(helper(x, level - 1) if x is fractal else repr(x) for x in obj) + \"]\"\n",
    "    print(helper(obj, depth))\n",
    "fractal = [3]\n",
    "fractal.append(fractal) \n",
    "fractal.append(2)\n",
    "fractal_print(fractal)"
   ],
   "id": "121650b135a03de0",
   "outputs": [
    {
     "name": "stdout",
     "output_type": "stream",
     "text": [
      "[3, [3, [...], 2], 2]\n"
     ]
    }
   ],
   "execution_count": 35
  },
  {
   "metadata": {},
   "cell_type": "markdown",
   "source": [
    "23.Напишите функцию, которая создает, заполняет и возвращает матрицу заданного размера. При этом (в зависимости от переданных аргументов) она должна вести себя\n",
    "так:\n",
    "• matrix() - создает матрицу 1 х 1, в которой единственное число равно нулю. \n",
    "• matrix(n) - создает матрицу пп, заполненную нулями.\n",
    "• matrix(n, m) - создает матрицу из п строк и т столбцов, заполненную нулями. \n",
    "• matrix(n, m, а) - создает матрицу из п строк и т столбцов, в которой каждый элемент равен а.\n",
    "При создании функции пользуйтесь аргументами по умолчанию."
   ],
   "id": "4fec4f714a733190"
  },
  {
   "metadata": {
    "ExecuteTime": {
     "end_time": "2025-03-13T12:38:06.321819Z",
     "start_time": "2025-03-13T12:38:06.303816Z"
    }
   },
   "cell_type": "code",
   "source": [
    "def matrix(n=1, m=None, a=0):\n",
    "    if m is None: \n",
    "        m = n  \n",
    "    return [[a] * m for _ in range(n)]  \n",
    "for row in rows:\n",
    "    print(*row)\n",
    "\n",
    "rows = matrix(2, 3 , 5)\n",
    "for row in rows:\n",
    "    print(*row)"
   ],
   "id": "7656b0b9e04f3d34",
   "outputs": [
    {
     "name": "stdout",
     "output_type": "stream",
     "text": [
      "0 0\n",
      "0 0\n",
      "5 5 5\n",
      "5 5 5\n"
     ]
    }
   ],
   "execution_count": 38
  },
  {
   "metadata": {},
   "cell_type": "markdown",
   "source": [
    "24.к-ой частичной суммой списка называется сумма первых к элементов списка. Напишите функцию partial_sums, которая принимает неограниченное число аргументов, а возвращает список частичных сумм этих элементов: на нулевой позиции - 0, на первой позиции - первое число, на второй — сумму первого и второго чисел, затем - сумму\n",
    "первого, второго и третьего и т.д.\n",
    "Обратите внимание, что функция должна принимать не список, а именно\n",
    "неограниченное число аргументов."
   ],
   "id": "c0d3df58bf6a989a"
  },
  {
   "metadata": {
    "ExecuteTime": {
     "end_time": "2025-03-13T12:53:25.482887Z",
     "start_time": "2025-03-13T12:53:25.471814Z"
    }
   },
   "cell_type": "code",
   "source": [
    "def partial_sums(*args):\n",
    "    result = [0]  \n",
    "    total = 0\n",
    "    for num in args:\n",
    "        total += num\n",
    "        result.append(total)\n",
    "    return result\n",
    "\n",
    "# Пример использования:\n",
    "print(partial_sums(1, 0.5, 0.25, 0.125))"
   ],
   "id": "e05ff75517637634",
   "outputs": [
    {
     "name": "stdout",
     "output_type": "stream",
     "text": [
      "[0, 1, 1.5, 1.75, 1.875]\n"
     ]
    }
   ],
   "execution_count": 40
  },
  {
   "metadata": {},
   "cell_type": "markdown",
   "source": [
    "25.Сделайте функцию solve(*coefficients), которая умеет решать уравнения степени не выше второй (квадратные и линейные).\n",
    "• Если у функции три аргумента, их надо трактовать как а, b и с в уравнении\n",
    "ax2+bx+c=0.\n",
    "• Если два - как коэффициенты b и с в уравнении bx+c=0.\n",
    "• Если один - как коэффициент с в уравнении с = 0.\n",
    "• Если список коэффициентов пуст или коэффициентов больше трёх, то функция должна вернуть None.\n",
    "Возвращаемое значение у функции ровно одно, а корней может быть от нуля до двух (есть еще один случай: a = b = c = 0, при котором решением является любое число; про него ниже), поэтому сделать так, чтобы эта функция возвращала просто значение корня, не получится.\n",
    "Вместо этого вы должны вернуть из функции список, содержащий значения всех корней уравнения (одно, два или ни одного). Если корнем является любое значение х, верните вместо списка чисел список, содержащий одну строку \"all\" ([\"all\"])\n",
    "Не забудьте рассмотреть случаи, когда квадратное уравнение вырождается до линейного (а = 0).\n",
    "Также бывает, что линейное уравнение вырождается еще дальше - до уравнения, в котором х не участвует вовсе (a = b = 0). В этом случае мы получаем уравнение с = 0, которое, в зависимости от значения с, либо не имеет корней, либо корнем является любой х."
   ],
   "id": "d95aa9b29d7cc9a1"
  },
  {
   "metadata": {
    "ExecuteTime": {
     "end_time": "2025-03-13T12:55:20.208514Z",
     "start_time": "2025-03-13T12:55:20.200039Z"
    }
   },
   "cell_type": "code",
   "source": [
    "import math\n",
    "def solve(*coefficients):\n",
    "    if len(coefficients) == 3:\n",
    "        a, b, c = coefficients\n",
    "        if a == 0:\n",
    "            if b == 0:\n",
    "                return [\"all\"] if c == 0 else []\n",
    "            return [-c / b]\n",
    "        discriminant = b**2 - 4 * a * c\n",
    "        if discriminant < 0:\n",
    "            return [] \n",
    "        elif discriminant == 0:\n",
    "            return [-b / (2 * a)]  \n",
    "        else:\n",
    "            sqrt_discriminant = math.sqrt(discriminant)\n",
    "            return sorted([(-b + sqrt_discriminant) / (2 * a), (-b - sqrt_discriminant) / (2 * a)])\n",
    "    elif len(coefficients) == 2:\n",
    "        b, c = coefficients\n",
    "        if b == 0:\n",
    "            return [] if c != 0 else [\"all\"]\n",
    "        return [-c / b]\n",
    "    elif len(coefficients) == 1:\n",
    "        c = coefficients[0]\n",
    "        return [] if c != 0 else [\"all\"]\n",
    "    else:\n",
    "        return None\n",
    "print(sorted(solve(1, -3, 2)))"
   ],
   "id": "68466e5d7c39320f",
   "outputs": [
    {
     "name": "stdout",
     "output_type": "stream",
     "text": [
      "[1.0, 2.0]\n"
     ]
    }
   ],
   "execution_count": 42
  }
 ],
 "metadata": {
  "kernelspec": {
   "display_name": "Python 3",
   "language": "python",
   "name": "python3"
  },
  "language_info": {
   "codemirror_mode": {
    "name": "ipython",
    "version": 2
   },
   "file_extension": ".py",
   "mimetype": "text/x-python",
   "name": "python",
   "nbconvert_exporter": "python",
   "pygments_lexer": "ipython2",
   "version": "2.7.6"
  }
 },
 "nbformat": 4,
 "nbformat_minor": 5
}
